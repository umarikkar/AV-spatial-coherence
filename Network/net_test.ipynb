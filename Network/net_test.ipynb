{
 "cells": [
  {
   "cell_type": "code",
   "execution_count": 1,
   "outputs": [],
   "source": [
    "import torch\n",
    "import torchaudio\n",
    "import torchvision\n",
    "\n",
    "import numpy as np"
   ],
   "metadata": {
    "collapsed": false,
    "pycharm": {
     "name": "#%%\n"
    }
   }
  },
  {
   "cell_type": "code",
   "execution_count": 2,
   "outputs": [],
   "source": [
    "import matplotlib.pyplot as plt\n",
    "%matplotlib inline"
   ],
   "metadata": {
    "collapsed": false,
    "pycharm": {
     "name": "#%%\n"
    }
   }
  },
  {
   "cell_type": "code",
   "execution_count": 3,
   "outputs": [],
   "source": [
    "A = torch.randn(100)"
   ],
   "metadata": {
    "collapsed": false,
    "pycharm": {
     "name": "#%%\n"
    }
   }
  },
  {
   "cell_type": "code",
   "execution_count": 4,
   "outputs": [
    {
     "data": {
      "text/plain": "tensor([-2.7515e+00, -9.3648e-01, -1.4528e+00,  7.8910e-01,  5.9016e-01,\n         1.2261e+00, -1.0800e+00,  1.3899e-01,  2.8119e-01,  4.5569e-01,\n         1.7475e+00,  1.6800e+00, -2.0223e+00, -4.0054e-02,  1.6695e+00,\n         1.3329e+00, -5.8500e-01,  8.8212e-01, -1.0390e+00,  1.5319e+00,\n        -2.0501e-01,  1.0920e-01,  4.8872e-01, -8.9352e-01,  9.1876e-01,\n         8.0729e-01,  2.1411e+00,  6.7271e-01,  1.2214e+00,  2.2997e+00,\n        -1.0896e+00,  9.5277e-01, -1.1166e+00,  9.9913e-01,  9.5791e-01,\n        -1.3624e+00,  1.9749e-01, -1.0123e+00, -1.3312e+00,  6.6123e-01,\n        -1.7342e-01, -1.2470e+00, -1.0493e+00,  5.4317e-01,  1.0851e+00,\n        -5.6134e-01, -1.3921e+00, -1.7731e+00,  3.5100e-01, -1.3775e+00,\n         3.2874e-01, -7.4119e-01,  1.1619e+00, -2.6199e-03, -6.7236e-01,\n         4.2508e-01,  2.3277e-01, -1.1963e+00,  7.0430e-03, -3.9986e-01,\n         7.2293e-01,  8.8226e-01, -3.4999e-01,  3.9767e-01, -3.4642e-01,\n         2.2512e+00,  1.2611e+00, -1.1355e+00,  6.8469e-01,  7.3623e-01,\n        -1.1278e+00,  2.9239e-01, -2.1159e-01, -1.9017e+00, -1.4090e+00,\n        -8.4116e-01, -1.0606e+00, -9.0629e-01,  1.9357e+00, -7.8644e-02,\n         1.2940e-01,  1.1765e+00,  9.0282e-01, -3.0339e-01, -1.6880e+00,\n         1.9838e+00, -9.6315e-01, -3.3138e-01,  4.7857e-01, -7.7026e-02,\n        -2.7801e-01, -8.3014e-01, -2.0509e+00,  1.9310e-01, -4.8574e-01,\n         1.5396e+00, -1.0840e+00,  4.9830e-01,  2.7157e-01,  2.8316e-01])"
     },
     "execution_count": 4,
     "metadata": {},
     "output_type": "execute_result"
    }
   ],
   "source": [
    "A"
   ],
   "metadata": {
    "collapsed": false,
    "pycharm": {
     "name": "#%%\n"
    }
   }
  },
  {
   "cell_type": "code",
   "execution_count": 5,
   "outputs": [],
   "source": [
    "A = np.array(A)"
   ],
   "metadata": {
    "collapsed": false,
    "pycharm": {
     "name": "#%%\n"
    }
   }
  },
  {
   "cell_type": "code",
   "execution_count": null,
   "outputs": [],
   "source": [
    "plt.plot(A)"
   ],
   "metadata": {
    "collapsed": false,
    "pycharm": {
     "name": "#%%\n",
     "is_executing": true
    }
   }
  },
  {
   "cell_type": "code",
   "execution_count": null,
   "outputs": [],
   "source": [],
   "metadata": {
    "collapsed": false,
    "pycharm": {
     "name": "#%%\n"
    }
   }
  }
 ],
 "metadata": {
  "kernelspec": {
   "display_name": "Python 3",
   "language": "python",
   "name": "python3"
  },
  "language_info": {
   "codemirror_mode": {
    "name": "ipython",
    "version": 2
   },
   "file_extension": ".py",
   "mimetype": "text/x-python",
   "name": "python",
   "nbconvert_exporter": "python",
   "pygments_lexer": "ipython2",
   "version": "2.7.6"
  }
 },
 "nbformat": 4,
 "nbformat_minor": 0
}