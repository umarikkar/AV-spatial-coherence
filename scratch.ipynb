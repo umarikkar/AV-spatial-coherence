{
 "cells": [
  {
   "cell_type": "code",
   "execution_count": 54,
   "metadata": {},
   "outputs": [],
   "source": [
    "import os\n",
    "import numpy as np"
   ]
  },
  {
   "cell_type": "code",
   "execution_count": 2,
   "metadata": {},
   "outputs": [
    {
     "name": "stdout",
     "output_type": "stream",
     "text": [
      "c:\\Users\\umari\\projects\\AV-spatial-coherence\n",
      "['camera_calibration_data', 'conversation1_t3', 'femalemonologue2_t3', 'interactive1_t2', 'interactive4_t3', 'malemonologue2_t3', 'README.txt'] c:\\Users\\umari\\projects\\AV-spatial-coherence\\data\\csv\\test_new.csv\n"
     ]
    }
   ],
   "source": [
    "current_path = os.getcwd()\n",
    "\n",
    "print(current_path)\n",
    "\n",
    "sub_folder = os.path.join(current_path, 'data', 'RJDataset', 'labels', '3D_mouth_detections')\n",
    "\n",
    "test_path = os.path.join(current_path, 'data', 'csv')\n",
    "\n",
    "test_file = os.path.join(test_path, 'test_new.csv')\n"
   ]
  },
  {
   "cell_type": "code",
   "execution_count": 123,
   "metadata": {},
   "outputs": [],
   "source": [
    "import csv\n",
    "\n",
    "def csv_to_list(csv_path):\n",
    "    as_list = None\n",
    "    with open(csv_path, 'r') as f:\n",
    "        reader = csv.reader(f)\n",
    "        as_list = list(reader)\n",
    "    return as_list"
   ]
  },
  {
   "cell_type": "code",
   "execution_count": 131,
   "metadata": {},
   "outputs": [
    {
     "name": "stdout",
     "output_type": "stream",
     "text": [
      "(78715, 9)\n"
     ]
    },
    {
     "data": {
      "text/plain": [
       "array([['conversation1_t3-cam01', '0', '1', ..., '0.0', '0.0', '0.0'],\n",
       "       ['conversation1_t3-cam01', '0.03', '1', ..., '0.0', '0.0', '0.0'],\n",
       "       ['conversation1_t3-cam01', '0.07', '1', ..., '0.0', '0.0', '0.0'],\n",
       "       ...,\n",
       "       ['malemonologue2_t3-cam22', '21.9', '1', ..., '0.0', '0.0', '0.0'],\n",
       "       ['malemonologue2_t3-cam22', '21.93', '1', ..., '0.0', '0.0',\n",
       "        '0.0'],\n",
       "       ['malemonologue2_t3-cam22', '21.97', '1', ..., '0.0', '0.0',\n",
       "        '0.0']], dtype='<U32')"
      ]
     },
     "execution_count": 131,
     "metadata": {},
     "output_type": "execute_result"
    }
   ],
   "source": [
    "csv_original = csv_to_list(test_file)[1:]\n",
    "\n",
    "csv_array = np.array(csv_original)\n",
    "\n",
    "names = csv_array[:,0]\n",
    "\n",
    "# let us first append the list with the two extra columns\n",
    "sz = csv_array.shape[0]\n",
    "empty_arr = np.empty((sz,4)) # male_x, male_y, female_x, female_y\n",
    "\n",
    "\n",
    "csv_array = np.append(csv_array, empty_arr, axis=-1)\n",
    "print(csv_array.shape)\n",
    "\n",
    "csv_array\n"
   ]
  },
  {
   "cell_type": "code",
   "execution_count": 139,
   "metadata": {},
   "outputs": [
    {
     "name": "stdout",
     "output_type": "stream",
     "text": [
      "both\n",
      "both\n",
      "both\n",
      "both\n",
      "both\n",
      "both\n",
      "both\n",
      "both\n",
      "both\n",
      "both\n",
      "both\n",
      "both\n",
      "both\n",
      "both\n",
      "both\n",
      "both\n",
      "both\n",
      "both\n",
      "both\n",
      "both\n",
      "both\n",
      "both\n",
      "female only\n",
      "female only\n",
      "female only\n",
      "female only\n",
      "female only\n",
      "female only\n",
      "female only\n",
      "female only\n",
      "female only\n",
      "female only\n",
      "female only\n",
      "female only\n",
      "female only\n",
      "female only\n",
      "female only\n",
      "female only\n",
      "female only\n",
      "female only\n",
      "female only\n",
      "female only\n",
      "female only\n",
      "female only\n",
      "both\n",
      "both\n",
      "both\n",
      "both\n",
      "both\n",
      "both\n",
      "both\n",
      "both\n",
      "both\n",
      "both\n",
      "both\n",
      "both\n",
      "both\n",
      "both\n",
      "both\n",
      "both\n"
     ]
    },
    {
     "ename": "ValueError",
     "evalue": "shape mismatch: value array of shape (815,2) could not be broadcast to indexing result of shape (1,0,2)",
     "output_type": "error",
     "traceback": [
      "\u001b[1;31m---------------------------------------------------------------------------\u001b[0m",
      "\u001b[1;31mValueError\u001b[0m                                Traceback (most recent call last)",
      "\u001b[1;32mc:\\Users\\umari\\projects\\AV-spatial-coherence\\scratch.ipynb Cell 5\u001b[0m in \u001b[0;36m<cell line: 16>\u001b[1;34m()\u001b[0m\n\u001b[0;32m     <a href='vscode-notebook-cell:/c%3A/Users/umari/projects/AV-spatial-coherence/scratch.ipynb#X15sZmlsZQ%3D%3D?line=34'>35</a>\u001b[0m m_idxs \u001b[39m=\u001b[39m np\u001b[39m.\u001b[39msort(np\u001b[39m.\u001b[39mwhere(sub_array[:,\u001b[39m-\u001b[39m\u001b[39m1\u001b[39m]\u001b[39m==\u001b[39m\u001b[39mstr\u001b[39m(\u001b[39m1\u001b[39m)))[\u001b[39m0\u001b[39m]\n\u001b[0;32m     <a href='vscode-notebook-cell:/c%3A/Users/umari/projects/AV-spatial-coherence/scratch.ipynb#X15sZmlsZQ%3D%3D?line=35'>36</a>\u001b[0m f_idxs \u001b[39m=\u001b[39m np\u001b[39m.\u001b[39msort(np\u001b[39m.\u001b[39mwhere(sub_array[:,\u001b[39m-\u001b[39m\u001b[39m1\u001b[39m]\u001b[39m==\u001b[39m\u001b[39mstr\u001b[39m(\u001b[39m2\u001b[39m)))[\u001b[39m0\u001b[39m]\n\u001b[1;32m---> <a href='vscode-notebook-cell:/c%3A/Users/umari/projects/AV-spatial-coherence/scratch.ipynb#X15sZmlsZQ%3D%3D?line=37'>38</a>\u001b[0m csv_array[current_idxs, \u001b[39m-\u001b[39m\u001b[39m4\u001b[39m:\u001b[39m-\u001b[39m\u001b[39m2\u001b[39m] \u001b[39m=\u001b[39m coord[m_idxs]\n\u001b[0;32m     <a href='vscode-notebook-cell:/c%3A/Users/umari/projects/AV-spatial-coherence/scratch.ipynb#X15sZmlsZQ%3D%3D?line=38'>39</a>\u001b[0m csv_array[current_idxs, \u001b[39m-\u001b[39m\u001b[39m2\u001b[39m:] \u001b[39m=\u001b[39m coord[f_idxs]\n\u001b[0;32m     <a href='vscode-notebook-cell:/c%3A/Users/umari/projects/AV-spatial-coherence/scratch.ipynb#X15sZmlsZQ%3D%3D?line=40'>41</a>\u001b[0m \u001b[39mprint\u001b[39m(\u001b[39m'\u001b[39m\u001b[39mboth\u001b[39m\u001b[39m'\u001b[39m)\n",
      "\u001b[1;31mValueError\u001b[0m: shape mismatch: value array of shape (815,2) could not be broadcast to indexing result of shape (1,0,2)"
     ]
    }
   ],
   "source": [
    "test_seqs = ['conversation1_t3', 'femalemonologue2_t3', 'interactive1_t2', 'interactive4_t3', 'malemonologue2_t3']\n",
    "\n",
    "# test_seqs = ['conversation1_t3']\n",
    "\n",
    "male = [True, False, True, True, True]\n",
    "female = [True, True, True, True, False]\n",
    "\n",
    "cams = ['01', '02', '03', '04', '05', \n",
    "        '06', '07', '08', '09', '10',\n",
    "        '11', '12', '13', '14', '15',\n",
    "        '16', '17', '18', '19', '20',\n",
    "        '21', '22']\n",
    "\n",
    "# cams = ['01']\n",
    "\n",
    "for seq_idx, seq in enumerate(test_seqs):\n",
    "        for cam in cams:\n",
    "\n",
    "                # cam_idx = 2\n",
    "                # seq_idx = 0\n",
    "                # cam = cams[cam_idx]\n",
    "                # seq = test_seqs[seq_idx]\n",
    "\n",
    "                seq_cam = seq+'-cam'+cam\n",
    "                sub_file = os.path.join(sub_folder, seq, '2D_projections', seq_cam +'_GT.csv')\n",
    "                csv_sub = csv_to_list(sub_file)\n",
    "                sub_array = np.array(csv_sub)\n",
    "\n",
    "                coord = sub_array[:, 1:3].astype('float')\n",
    "\n",
    "                current_idxs = np.sort(np.where(names==seq_cam))\n",
    "                \n",
    "        \n",
    "                if male[seq_idx] and female[seq_idx]:\n",
    "                        m_idxs = np.sort(np.where(sub_array[:,-1]==str(1)))[0]\n",
    "                        f_idxs = np.sort(np.where(sub_array[:,-1]==str(2)))[0]\n",
    "\n",
    "                        csv_array[current_idxs, -4:-2] = coord[m_idxs]\n",
    "                        csv_array[current_idxs, -2:] = coord[f_idxs]\n",
    "\n",
    "                        print('both')\n",
    "\n",
    "                elif male[seq_idx]:\n",
    "                        print('male only')\n",
    "                        csv_array[current_idxs, -4:-2] = coord\n",
    "\n",
    "                else:\n",
    "                        print('female only')\n",
    "                        csv_array[current_idxs, -2:] = coord\n",
    "                        # print(seq, len(current_idxs[0]), len(sub_array))\n"
   ]
  },
  {
   "cell_type": "code",
   "execution_count": 136,
   "metadata": {},
   "outputs": [
    {
     "name": "stdout",
     "output_type": "stream",
     "text": [
      "[['conversation1_t3-cam01' '0' '1' ... '476.0' '872.0' '565.0']\n",
      " ['conversation1_t3-cam01' '0.03' '1' ... '477.0' '872.0' '565.0']\n",
      " ['conversation1_t3-cam01' '0.07' '1' ... '478.0' '872.0' '565.0']\n",
      " ...\n",
      " ['malemonologue2_t3-cam22' '21.9' '1' ... '0.0' '0.0' '0.0']\n",
      " ['malemonologue2_t3-cam22' '21.93' '1' ... '0.0' '0.0' '0.0']\n",
      " ['malemonologue2_t3-cam22' '21.97' '1' ... '0.0' '0.0' '0.0']]\n"
     ]
    }
   ],
   "source": [
    "print(csv_array)"
   ]
  },
  {
   "cell_type": "code",
   "execution_count": 57,
   "metadata": {},
   "outputs": [
    {
     "data": {
      "text/plain": [
       "(2090, 4)"
      ]
     },
     "execution_count": 57,
     "metadata": {},
     "output_type": "execute_result"
    }
   ],
   "source": [
    "sub_array.shape"
   ]
  },
  {
   "cell_type": "code",
   "execution_count": 49,
   "metadata": {},
   "outputs": [],
   "source": []
  },
  {
   "cell_type": "code",
   "execution_count": 50,
   "metadata": {},
   "outputs": [
    {
     "data": {
      "text/plain": [
       "(array([2090, 2091, 2092, ..., 3132, 3133, 3134], dtype=int64),)"
      ]
     },
     "execution_count": 50,
     "metadata": {},
     "output_type": "execute_result"
    }
   ],
   "source": []
  },
  {
   "cell_type": "code",
   "execution_count": null,
   "metadata": {},
   "outputs": [],
   "source": []
  }
 ],
 "metadata": {
  "kernelspec": {
   "display_name": "Python 3.8.13 ('DL38')",
   "language": "python",
   "name": "python3"
  },
  "language_info": {
   "codemirror_mode": {
    "name": "ipython",
    "version": 3
   },
   "file_extension": ".py",
   "mimetype": "text/x-python",
   "name": "python",
   "nbconvert_exporter": "python",
   "pygments_lexer": "ipython3",
   "version": "3.8.13"
  },
  "orig_nbformat": 4,
  "vscode": {
   "interpreter": {
    "hash": "1222a71dbe72e2a4a3c770f69a94992665f86f9a6ceb5bec610e6a8ad2150cd2"
   }
  }
 },
 "nbformat": 4,
 "nbformat_minor": 2
}
