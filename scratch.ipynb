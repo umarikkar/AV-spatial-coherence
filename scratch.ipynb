{
 "cells": [
  {
   "cell_type": "code",
   "execution_count": 1,
   "metadata": {},
   "outputs": [
    {
     "name": "stderr",
     "output_type": "stream",
     "text": [
      "c:\\Users\\umari\\anaconda3\\envs\\DL38\\lib\\site-packages\\tqdm\\auto.py:22: TqdmWarning: IProgress not found. Please update jupyter and ipywidgets. See https://ipywidgets.readthedocs.io/en/stable/user_install.html\n",
      "  from .autonotebook import tqdm as notebook_tqdm\n"
     ]
    },
    {
     "name": "stdout",
     "output_type": "stream",
     "text": [
      "network path c:\\Users\\umari\\projects\\AV-spatial-coherence\\results\\checkpoints\\MC_full_vgg_freeze_BCE\n"
     ]
    }
   ],
   "source": [
    "import datetime\n",
    "import os\n",
    "import random\n",
    "import torch\n",
    "import torch.nn as nn\n",
    "import matplotlib.pyplot as plt\n",
    "\n",
    "import torchvision.models as models_vision\n",
    "import torchaudio.models as models_audio\n",
    "\n",
    "import core.config as conf\n",
    "from torchvision.transforms import transforms\n",
    "\n",
    "from fn_networks import BackboneAud, SubnetAud, SubnetVid, show_feature_map"
   ]
  },
  {
   "cell_type": "code",
   "execution_count": 12,
   "metadata": {},
   "outputs": [],
   "source": [
    "class AVOL_Net(nn.Module):\n",
    "\n",
    "    def __init__(self, \n",
    "    heatmap=conf.dnn_arch['heatmap'], \n",
    "    inference = conf.training_param['inference']\n",
    "    ):\n",
    "        \n",
    "        self.inference = inference\n",
    "\n",
    "        super().__init__()\n",
    "        self.heatmap = heatmap\n",
    "        \n",
    "        self.VideoNet = models_vision.vgg11(pretrained=True).features[0:20]\n",
    "\n",
    "        for layer in self.VideoNet:\n",
    "                if isinstance(layer, nn.Conv2d):\n",
    "                    layer.requires_grad_ = False\n",
    "\n",
    "        self.AudioNet = BackboneAud()\n",
    "\n",
    "        self.VideoMerge = SubnetVid(BN=False)\n",
    "        self.AudioMerge = SubnetAud(BN=False)\n",
    "\n",
    "        self.conv_final = nn.Conv2d(1,1,kernel_size=1)\n",
    "\n",
    "    def forward(self, x_in, y_in, cam):\n",
    "\n",
    "        x1 = self.VideoNet(x_in)                                                # 512 x 7 x 7 \n",
    "        y1 = self.AudioNet(y_in)                                                # 512 x H x W \n",
    "\n",
    "        x2 = self.VideoMerge(x1)                                                # 128 x 7 x 7 \n",
    "        y2 = self.AudioMerge(y1, cam_ID=cam).unsqueeze(-1).unsqueeze(-1)        # 128 x 1 x 1 \n",
    "\n",
    "        x2 = x2*y2\n",
    "        \n",
    "        x2 = x2.mean(dim=1, keepdim=True)                                       # 1 x 14 x 14 \n",
    "\n",
    "        x2 = self.conv_final(x2).squeeze(1)\n",
    "\n",
    "        x_map = torch.sigmoid(x2)                                               # 1 x 14 x 14 \n",
    "\n",
    "        if self.inference:\n",
    "            features_ls = [\n",
    "                (x_in, 'input image'),\n",
    "                (x1, 'after img backbone'),\n",
    "                (x2, 'after attention'),\n",
    "                (x_map, 'heatmap')\n",
    "            ]           \n",
    "            show_feature_map(features_ls)\n",
    "\n",
    "        x_class = torch.amax(x_map, (1,2))\n",
    "\n",
    "        return x_class, x_map"
   ]
  },
  {
   "cell_type": "code",
   "execution_count": 13,
   "metadata": {},
   "outputs": [
    {
     "name": "stdout",
     "output_type": "stream",
     "text": [
      "Custom for Audio\n"
     ]
    }
   ],
   "source": [
    "net = AVOL_Net()"
   ]
  },
  {
   "cell_type": "code",
   "execution_count": 14,
   "metadata": {},
   "outputs": [],
   "source": [
    "img = torch.randn((1, 3, 224, 224))\n",
    "aud = torch.randn((1, 16, 960, 64))\n",
    "cam = torch.randn((1, 11))"
   ]
  },
  {
   "cell_type": "code",
   "execution_count": 15,
   "metadata": {},
   "outputs": [],
   "source": [
    "out = net(img, aud, cam)"
   ]
  },
  {
   "cell_type": "code",
   "execution_count": 16,
   "metadata": {},
   "outputs": [
    {
     "name": "stdout",
     "output_type": "stream",
     "text": [
      "torch.Size([1])\n",
      "torch.Size([1, 14, 14])\n"
     ]
    }
   ],
   "source": [
    "for o in out:\n",
    "    print(o.shape)"
   ]
  },
  {
   "cell_type": "code",
   "execution_count": 4,
   "metadata": {},
   "outputs": [
    {
     "data": {
      "text/plain": [
       "'abcde'"
      ]
     },
     "execution_count": 4,
     "metadata": {},
     "output_type": "execute_result"
    }
   ],
   "source": [
    "word = 'abcde-cam08'\n",
    "\n",
    "word = word[:-word.find('cam')]\n",
    "\n",
    "word"
   ]
  },
  {
   "cell_type": "code",
   "execution_count": null,
   "metadata": {},
   "outputs": [],
   "source": []
  }
 ],
 "metadata": {
  "kernelspec": {
   "display_name": "Python 3.8.13 ('DL38')",
   "language": "python",
   "name": "python3"
  },
  "language_info": {
   "codemirror_mode": {
    "name": "ipython",
    "version": 3
   },
   "file_extension": ".py",
   "mimetype": "text/x-python",
   "name": "python",
   "nbconvert_exporter": "python",
   "pygments_lexer": "ipython3",
   "version": "3.8.13"
  },
  "orig_nbformat": 4,
  "vscode": {
   "interpreter": {
    "hash": "1222a71dbe72e2a4a3c770f69a94992665f86f9a6ceb5bec610e6a8ad2150cd2"
   }
  }
 },
 "nbformat": 4,
 "nbformat_minor": 2
}
