{
 "cells": [
  {
   "cell_type": "code",
   "execution_count": 1,
   "metadata": {},
   "outputs": [
    {
     "name": "stdout",
     "output_type": "stream",
     "text": [
      "network path /Users/umar_m/Projects/MSc-project/AV-spatial-coherence/results/checkpoints/MC_full_AVOL_vid\n"
     ]
    }
   ],
   "source": [
    "import datetime\n",
    "import os\n",
    "import random\n",
    "import torch\n",
    "import torch.nn as nn\n",
    "import matplotlib.pyplot as plt\n",
    "\n",
    "import torchvision.models as models_vision\n",
    "\n",
    "import core.config as conf\n",
    "from torchvision.transforms import transforms\n",
    "\n",
    "from fn_networks import BackboneAud, SubnetAud, SubnetVid, show_feature_map"
   ]
  },
  {
   "cell_type": "code",
   "execution_count": 72,
   "metadata": {},
   "outputs": [],
   "source": [
    "def init_weights(m):\n",
    "    if isinstance(m, nn.Conv2d) or isinstance(m, nn.Linear):\n",
    "        torch.nn.init.xavier_uniform_(m.weight)\n",
    "\n",
    "\n",
    "class AVE_Net(nn.Module):\n",
    "\n",
    "\n",
    "    def __init__(self, \n",
    "    heatmap=conf.dnn_arch['heatmap'], \n",
    "    inference = conf.training_param['inference'],\n",
    "    cam_size=11\n",
    "    ):\n",
    "        \n",
    "        self.inference = inference\n",
    "\n",
    "        super().__init__()\n",
    "        self.heatmap = heatmap\n",
    "        \n",
    "        self.VideoNet = models_vision.vgg11(pretrained=True).features[0:20]\n",
    "\n",
    "        for layer in self.VideoNet:\n",
    "                if isinstance(layer, nn.Conv2d):\n",
    "                    layer.requires_grad_ = False\n",
    "\n",
    "        self.AudioNet = BackboneAud()\n",
    "        self.AudioMerge = SubnetAud(BN=False)\n",
    "\n",
    "        self.FC1_aud = nn.Linear(512, 128).apply(init_weights)\n",
    "        self.FC2_aud = nn.Linear(128+cam_size, 128).apply(init_weights)\n",
    "\n",
    "        self.FC1_img = nn.Linear(512, 128).apply(init_weights)\n",
    "        self.FC2_img = nn.Linear(128, 128).apply(init_weights)\n",
    "\n",
    "        self.FC3 = nn.Linear(1,2)\n",
    "\n",
    "    def forward(self, x_in, y_in, cam=None, BS_pos=None):\n",
    "\n",
    "        x1 = self.VideoNet(x_in)                                                # 512 x 14 x 14\n",
    "        y1 = self.AudioNet(y_in)                                                # 512 x H x W \n",
    "\n",
    "        h_img, w_img = x1.shape[-2], x1.shape[-1]\n",
    "        h_aud, w_aud = y1.shape[-2], y1.shape[-1]\n",
    "\n",
    "        x1 = torch.max_pool2d(x1, (h_img, w_img), (h_img, w_img)).squeeze(-1).squeeze(-1)               # 512\n",
    "        y1 = torch.max_pool2d(y1, (h_aud, w_aud), (h_aud, w_aud)).squeeze(-1).squeeze(-1)               # 512\n",
    "\n",
    "        x1 = self.FC1_img(x1)                   # 128\n",
    "        x1 = self.FC2_img(x1)                   # 128\n",
    "\n",
    "        y1 = self.FC1_aud(y1)                   # 128\n",
    "        y1 = torch.concat((y1, cam), dim=-1)    # 139\n",
    "        y1 = self.FC2_aud(y1)                   # 128\n",
    "\n",
    "        # L2 norm\n",
    "\n",
    "        x1_norm = torch.linalg.vector_norm(x1, dim=-1, keepdim=True)\n",
    "        y1_norm = torch.linalg.vector_norm(y1, dim=-1, keepdim=True)\n",
    "\n",
    "        x1 = x1 / x1_norm\n",
    "        y1 = y1 / y1_norm\n",
    "\n",
    "        x = (x1 - y1).pow(2).sum(-1).sqrt().unsqueeze(-1)\n",
    "\n",
    "        x = self.FC3(x)\n",
    "\n",
    "        return x"
   ]
  },
  {
   "cell_type": "code",
   "execution_count": 73,
   "metadata": {},
   "outputs": [
    {
     "name": "stderr",
     "output_type": "stream",
     "text": [
      "/Users/umar_m/anaconda3/envs/DL38/lib/python3.8/site-packages/torchvision/models/_utils.py:208: UserWarning: The parameter 'pretrained' is deprecated since 0.13 and will be removed in 0.15, please use 'weights' instead.\n",
      "  warnings.warn(\n",
      "/Users/umar_m/anaconda3/envs/DL38/lib/python3.8/site-packages/torchvision/models/_utils.py:223: UserWarning: Arguments other than a weight enum or `None` for 'weights' are deprecated since 0.13 and will be removed in 0.15. The current behavior is equivalent to passing `weights=VGG11_Weights.IMAGENET1K_V1`. You can also use `weights=VGG11_Weights.DEFAULT` to get the most up-to-date weights.\n",
      "  warnings.warn(msg)\n"
     ]
    },
    {
     "name": "stdout",
     "output_type": "stream",
     "text": [
      "Custom for Audio\n"
     ]
    }
   ],
   "source": [
    "net = AVE_Net()"
   ]
  },
  {
   "cell_type": "code",
   "execution_count": 74,
   "metadata": {},
   "outputs": [],
   "source": [
    "img = torch.randn((2, 3, 224, 224))\n",
    "aud = torch.randn((2, 16, 960, 64))\n",
    "cam = torch.randn((2, 11))"
   ]
  },
  {
   "cell_type": "code",
   "execution_count": 75,
   "metadata": {},
   "outputs": [
    {
     "name": "stdout",
     "output_type": "stream",
     "text": [
      "torch.Size([2, 2])\n"
     ]
    }
   ],
   "source": [
    "out = net(img, aud, cam)"
   ]
  },
  {
   "cell_type": "code",
   "execution_count": 76,
   "metadata": {},
   "outputs": [
    {
     "data": {
      "text/plain": [
       "tensor([[0.3272, 0.0439],\n",
       "        [0.3286, 0.0488]], grad_fn=<AddmmBackward0>)"
      ]
     },
     "execution_count": 76,
     "metadata": {},
     "output_type": "execute_result"
    }
   ],
   "source": [
    "out"
   ]
  },
  {
   "cell_type": "code",
   "execution_count": 16,
   "metadata": {},
   "outputs": [
    {
     "name": "stdout",
     "output_type": "stream",
     "text": [
      "torch.Size([1])\n",
      "torch.Size([1, 14, 14])\n"
     ]
    }
   ],
   "source": [
    "for o in out:\n",
    "    print(o.shape)"
   ]
  },
  {
   "cell_type": "code",
   "execution_count": 4,
   "metadata": {},
   "outputs": [
    {
     "data": {
      "text/plain": [
       "'abcde'"
      ]
     },
     "execution_count": 4,
     "metadata": {},
     "output_type": "execute_result"
    }
   ],
   "source": [
    "word = 'abcde-cam08'\n",
    "\n",
    "word = word[:-word.find('cam')]\n",
    "\n",
    "word"
   ]
  },
  {
   "cell_type": "code",
   "execution_count": null,
   "metadata": {},
   "outputs": [],
   "source": []
  }
 ],
 "metadata": {
  "kernelspec": {
   "display_name": "Python 3.8.8 ('DL38')",
   "language": "python",
   "name": "python3"
  },
  "language_info": {
   "codemirror_mode": {
    "name": "ipython",
    "version": 3
   },
   "file_extension": ".py",
   "mimetype": "text/x-python",
   "name": "python",
   "nbconvert_exporter": "python",
   "pygments_lexer": "ipython3",
   "version": "3.8.8"
  },
  "orig_nbformat": 4,
  "vscode": {
   "interpreter": {
    "hash": "dd2c030c20d18997dd039200e9575a3bf4a2bfb21637339c49d8f9344be1b631"
   }
  }
 },
 "nbformat": 4,
 "nbformat_minor": 2
}
